{
 "metadata": {
  "name": "",
  "signature": "sha256:87c43000f4f2c74e43c6a27eaf8d15f6e1e43debb8fec7beb1a08f0d17107a95"
 },
 "nbformat": 3,
 "nbformat_minor": 0,
 "worksheets": [
  {
   "cells": [
    {
     "cell_type": "heading",
     "level": 1,
     "metadata": {},
     "source": [
      "Reading from a file"
     ]
    },
    {
     "cell_type": "markdown",
     "metadata": {},
     "source": [
      "Python includes a few convenient methods for reading from a file.<br>\n",
      "There are also built-in libraries for dealing with things like csv files<br>"
     ]
    },
    {
     "cell_type": "heading",
     "level": 6,
     "metadata": {},
     "source": [
      "For the following examples, you should update the filename variable with the location of your data on your machine!"
     ]
    },
    {
     "cell_type": "code",
     "collapsed": false,
     "input": [
      "filename = \"/Users/ocb046/coding/voice/voice_analytics.txt\""
     ],
     "language": "python",
     "metadata": {},
     "outputs": []
    },
    {
     "cell_type": "markdown",
     "metadata": {},
     "source": [
      "The first step to know about reading files is the <em>open</em> command:"
     ]
    },
    {
     "cell_type": "code",
     "collapsed": false,
     "input": [
      "file_object = open(filename, 'r')   ###  the 'r' means opening it in read only mode\n",
      "print type(file_object)\n",
      "print file_object"
     ],
     "language": "python",
     "metadata": {},
     "outputs": []
    },
    {
     "cell_type": "markdown",
     "metadata": {},
     "source": [
      "You can read the entire contents of the file by using the <em>read</em> method:"
     ]
    },
    {
     "cell_type": "code",
     "collapsed": false,
     "input": [
      "file_contents = file_object.read()\n",
      "print file_contents[:500]  #### I'm only printing the first 500 characters because it's long!\n",
      "print \"\\n\\n\"  # for spacing:  \\n is a line return\n",
      "print len(file_contents)\n"
     ],
     "language": "python",
     "metadata": {},
     "outputs": []
    },
    {
     "cell_type": "heading",
     "level": 5,
     "metadata": {},
     "source": [
      "TODO:  Try re-running that last cell.  What's different?"
     ]
    },
    {
     "cell_type": "markdown",
     "metadata": {},
     "source": [
      "Let's go ahead and close the file.   This is easy to forget to do."
     ]
    },
    {
     "cell_type": "code",
     "collapsed": false,
     "input": [
      "file_object.close()"
     ],
     "language": "python",
     "metadata": {},
     "outputs": []
    },
    {
     "cell_type": "markdown",
     "metadata": {},
     "source": [
      "OK, since it's easy to forget to close a file -- and that can cause problems, there's a better pattern here that uses the <em>with</em> statement"
     ]
    },
    {
     "cell_type": "code",
     "collapsed": false,
     "input": [
      "with open(filename, 'r') as file_object:\n",
      "    file_contents = file_object.read()\n",
      "\n",
      "print file_contents[:500]\n",
      "print \"\\n\\n\"  # for spacing:  \\n is a line return\n",
      "print len(file_contents)"
     ],
     "language": "python",
     "metadata": {},
     "outputs": []
    },
    {
     "cell_type": "heading",
     "level": 6,
     "metadata": {},
     "source": [
      "TODO:  re-run that and see if it looks different than before."
     ]
    },
    {
     "cell_type": "markdown",
     "metadata": {},
     "source": [
      "Reading the entire file contents in as a giant string can be useful in certain circumstances, but will require work to parse out things like the lines/rows, etc.   <br>\n",
      "Let's read the contents line by line into a list instead:"
     ]
    },
    {
     "cell_type": "code",
     "collapsed": false,
     "input": [
      "with open(filename, 'r') as file_object:\n",
      "    file_contents_lines = []\n",
      "    for line in file_object:\n",
      "        file_contents_lines.append(line.strip())   ### the .strip() call removes trailing spaces\n",
      "\n",
      "print file_contents_lines[0]\n",
      "print \"\\n\\n\"  # for spacing:  \\n is a line return\n",
      "print len(file_contents_lines)"
     ],
     "language": "python",
     "metadata": {},
     "outputs": []
    },
    {
     "cell_type": "markdown",
     "metadata": {},
     "source": [
      "Awesome!   Now we have a single line at a time.   Now we can get to work.<br>\n",
      "Remember what I said about using lists of lists as a table?  <br>\n",
      "Let's turn our data into a table, then.<br>\n",
      "First, though, a quick aside on string splitting"
     ]
    },
    {
     "cell_type": "code",
     "collapsed": false,
     "input": [
      "example_string = \"the quick brown fox jumps over the lazy dog\"\n",
      "print example_string\n",
      "split_string = example_string.split()\n",
      "print split_string\n",
      "print type(split_string)\n"
     ],
     "language": "python",
     "metadata": {},
     "outputs": []
    },
    {
     "cell_type": "code",
     "collapsed": false,
     "input": [
      "table = []\n",
      "for record in file_contents_lines:\n",
      "    ### if we don't strip off the trailing spaces, \n",
      "    row = record.strip().split('|')  ### the delimiter here is a | character.  Note: if | is allowed inside a record, this file format breaks!\n",
      "    table.append(row)"
     ],
     "language": "python",
     "metadata": {},
     "outputs": []
    },
    {
     "cell_type": "code",
     "collapsed": false,
     "input": [
      "for i in table[:3]:\n",
      "    print i"
     ],
     "language": "python",
     "metadata": {},
     "outputs": []
    },
    {
     "cell_type": "markdown",
     "metadata": {},
     "source": [
      "Let's do some basic exploration and searching, using strings"
     ]
    },
    {
     "cell_type": "code",
     "collapsed": false,
     "input": [
      "first_call = table[0][2]\n",
      "print first_call"
     ],
     "language": "python",
     "metadata": {},
     "outputs": []
    },
    {
     "cell_type": "code",
     "collapsed": false,
     "input": [
      "print first_call.upper()"
     ],
     "language": "python",
     "metadata": {},
     "outputs": []
    },
    {
     "cell_type": "code",
     "collapsed": false,
     "input": [
      "print first_call.lower()"
     ],
     "language": "python",
     "metadata": {},
     "outputs": []
    },
    {
     "cell_type": "code",
     "collapsed": false,
     "input": [
      "print \"password\" in first_call.lower()\n",
      "print \"fraud\" in first_call.lower()\n",
      "print \"cancel\" in first_call.lower()"
     ],
     "language": "python",
     "metadata": {},
     "outputs": []
    },
    {
     "cell_type": "code",
     "collapsed": false,
     "input": [
      "number_with_password = len([i for i in table if \"password\" in i[2].lower()])\n",
      "number_with_fraud = len([i for i in table if \"password\" in i[2].lower() if \"fraud\" in i[2].lower() ] )\n",
      "number_with_cancel = len([i for i in table if \"cancel\" in i[2].lower() ])\n",
      "print number_with_password, number_with_fraud, number_with_cancel"
     ],
     "language": "python",
     "metadata": {},
     "outputs": []
    },
    {
     "cell_type": "heading",
     "level": 6,
     "metadata": {},
     "source": [
      "TODO:   How many calls talk mention the word sober?"
     ]
    },
    {
     "cell_type": "code",
     "collapsed": false,
     "input": [
      "#### Enter your code here\n",
      "\n",
      "print len([i for i in table if \"sober\" in i[2].lower() ])\n"
     ],
     "language": "python",
     "metadata": {},
     "outputs": []
    },
    {
     "cell_type": "markdown",
     "metadata": {},
     "source": [
      "OK.   This is horribly repetative.   I want you to open a separate text editor, edit a file called \"util.py\" in the same directory as this notebook and create a search function.   <br>\n",
      "For uniformity, it should start like this: <br>\n",
      "<code>def string_search(table, search_word, search_index=2):<br></code><br>\n",
      "and it should return the matching rows of the table and be case insensitve.  I'll show you how it works:"
     ]
    },
    {
     "cell_type": "code",
     "collapsed": false,
     "input": [
      "from util import string_search\n",
      "sober_records = string_search(table, \"sober\", search_index=2)\n",
      "print len(sober_records)\n",
      "print sober_records[0]"
     ],
     "language": "python",
     "metadata": {},
     "outputs": []
    },
    {
     "cell_type": "heading",
     "level": 3,
     "metadata": {},
     "source": [
      "Let's run a few tests on your function!   Speak out if any of these fail!"
     ]
    },
    {
     "cell_type": "code",
     "collapsed": false,
     "input": [
      "assert len(string_search(table, \"sober\"))==784\n",
      "assert len(string_search(table, \"bees\"))==47\n",
      "assert len(string_search(table, \"capital\"))==25020"
     ],
     "language": "python",
     "metadata": {},
     "outputs": []
    }
   ],
   "metadata": {}
  }
 ]
}