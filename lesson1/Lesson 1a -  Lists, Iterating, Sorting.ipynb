{
 "metadata": {
  "name": "",
  "signature": "sha256:2e3479aad021abfde2ae3fb54f29e70b288c2172a88b5713f22449c5226c7440"
 },
 "nbformat": 3,
 "nbformat_minor": 0,
 "worksheets": [
  {
   "cells": [
    {
     "cell_type": "heading",
     "level": 1,
     "metadata": {},
     "source": [
      "Motivation:"
     ]
    },
    {
     "cell_type": "markdown",
     "metadata": {},
     "source": [
      "You all took the Pier 1 training.  So why go back over basic things like lists?<br>\n",
      "The reason is that lists are one of the most fundamental <em>data structures</em> in programming and are used everywhere!<br>\n",
      "More advanced data structures like numpy arrays or pandas dataframes all build on the conventions used in a list, so they are also <em>foundational</em>"
     ]
    },
    {
     "cell_type": "heading",
     "level": 1,
     "metadata": {},
     "source": [
      "List Basics"
     ]
    },
    {
     "cell_type": "markdown",
     "metadata": {},
     "source": [
      "A python list is an ordered collection of items <br>\n",
      "Elements inside a list can be of any type: strings, integers, floats, objects, etc., or any combination <br>\n",
      "Lists are <em>mutable</em> (more about that later)"
     ]
    },
    {
     "cell_type": "markdown",
     "metadata": {},
     "source": [
      "A list of integers:"
     ]
    },
    {
     "cell_type": "code",
     "collapsed": false,
     "input": [
      "list_of_integers = [1,2,3]"
     ],
     "language": "python",
     "metadata": {},
     "outputs": []
    },
    {
     "cell_type": "markdown",
     "metadata": {},
     "source": [
      "A list of strings:"
     ]
    },
    {
     "cell_type": "code",
     "collapsed": false,
     "input": [
      "list_of_strings = [\"1\", \"2\", \"3\", \"longer string\", \"even longer string\"]"
     ],
     "language": "python",
     "metadata": {},
     "outputs": []
    },
    {
     "cell_type": "markdown",
     "metadata": {},
     "source": [
      "A list of mixed types:"
     ]
    },
    {
     "cell_type": "code",
     "collapsed": false,
     "input": [
      "list_of_mixed_types = [1,2,3, \"1\", \"2\", 3.14159, \"longer string\"]"
     ],
     "language": "python",
     "metadata": {},
     "outputs": []
    },
    {
     "cell_type": "code",
     "collapsed": false,
     "input": [
      "print list_of_integers\n",
      "print list_of_strings\n",
      "print list_of_mixed_types"
     ],
     "language": "python",
     "metadata": {},
     "outputs": []
    },
    {
     "cell_type": "markdown",
     "metadata": {},
     "source": [
      "To know how many items are in a list, you can use len():"
     ]
    },
    {
     "cell_type": "code",
     "collapsed": false,
     "input": [
      "print len(list_of_integers)\n",
      "print len(list_of_strings)\n",
      "print len(list_of_mixed_types)"
     ],
     "language": "python",
     "metadata": {},
     "outputs": []
    },
    {
     "cell_type": "markdown",
     "metadata": {},
     "source": [
      "<br>\n",
      "<br>\n",
      "One important thing is that lists can be <em>nested</em>:  you can have elements that's lists:"
     ]
    },
    {
     "cell_type": "code",
     "collapsed": false,
     "input": [
      "nested_list = [list_of_integers, list_of_strings, list_of_mixed_types]\n",
      "print nested_list"
     ],
     "language": "python",
     "metadata": {},
     "outputs": []
    },
    {
     "cell_type": "heading",
     "level": 4,
     "metadata": {},
     "source": [
      "To do on your own:   how long is nested_list?  Try it on the next line"
     ]
    },
    {
     "cell_type": "code",
     "collapsed": false,
     "input": [
      "### Put your code here!\n",
      "\n"
     ],
     "language": "python",
     "metadata": {},
     "outputs": []
    },
    {
     "cell_type": "heading",
     "level": 3,
     "metadata": {},
     "source": [
      "Getting elements out of a list:"
     ]
    },
    {
     "cell_type": "markdown",
     "metadata": {},
     "source": [
      "Python supports multiple ways of getting elements out of a list.  To get a single item, you use the square brackets and the position in the list:"
     ]
    },
    {
     "cell_type": "code",
     "collapsed": false,
     "input": [
      "print list_of_strings[3]"
     ],
     "language": "python",
     "metadata": {},
     "outputs": []
    },
    {
     "cell_type": "heading",
     "level": 6,
     "metadata": {},
     "source": [
      "Note:   Python starts counting at zero!"
     ]
    },
    {
     "cell_type": "code",
     "collapsed": false,
     "input": [
      "print list_of_strings[0]"
     ],
     "language": "python",
     "metadata": {},
     "outputs": []
    },
    {
     "cell_type": "heading",
     "level": 4,
     "metadata": {},
     "source": [
      "Try it out:\n",
      "    What happens if you try to get a position that's larger than the length of the list?"
     ]
    },
    {
     "cell_type": "code",
     "collapsed": false,
     "input": [
      "#### Test it out here\n",
      "\n"
     ],
     "language": "python",
     "metadata": {},
     "outputs": []
    },
    {
     "cell_type": "heading",
     "level": 4,
     "metadata": {},
     "source": [
      "Try it out:  What happens if you use a negative number?"
     ]
    },
    {
     "cell_type": "code",
     "collapsed": false,
     "input": [
      "#### Test it out here\n",
      "\n"
     ],
     "language": "python",
     "metadata": {},
     "outputs": []
    },
    {
     "cell_type": "heading",
     "level": 6,
     "metadata": {},
     "source": [
      "What did it do?"
     ]
    },
    {
     "cell_type": "heading",
     "level": 3,
     "metadata": {},
     "source": [
      "Changing an element:   you can also change the element inside:"
     ]
    },
    {
     "cell_type": "code",
     "collapsed": false,
     "input": [
      "print list_of_strings\n",
      "list_of_strings[1] = \"a brand new string!\"\n",
      "print list_of_strings"
     ],
     "language": "python",
     "metadata": {},
     "outputs": []
    },
    {
     "cell_type": "markdown",
     "metadata": {},
     "source": [
      "Side note:  this is what it means that a list is <em>mutable</em> and one primary thing that distinguishes it from a <em>tuple</em>:"
     ]
    },
    {
     "cell_type": "code",
     "collapsed": false,
     "input": [
      "tuple_of_strings = (\"1\", \"2\", \"3\", \"longer string\", \"even longer string\")\n",
      "print tuple_of_strings\n",
      "\n",
      "### Uncomment the following line and try it out!\n",
      "\n",
      "###tuple_of_strings[1] = \"a brand new string for the tuple!\""
     ],
     "language": "python",
     "metadata": {},
     "outputs": []
    },
    {
     "cell_type": "code",
     "collapsed": false,
     "input": [
      "###For more mind-warping affects of mutability, uncomment the following line:\n",
      "\n",
      "###print nested_list"
     ],
     "language": "python",
     "metadata": {},
     "outputs": []
    },
    {
     "cell_type": "heading",
     "level": 4,
     "metadata": {},
     "source": [
      "What's going on here?"
     ]
    },
    {
     "cell_type": "heading",
     "level": 3,
     "metadata": {},
     "source": [
      "Slicing:"
     ]
    },
    {
     "cell_type": "markdown",
     "metadata": {},
     "source": [
      "You can also pull out subsections of a list by \"slicing\" it:"
     ]
    },
    {
     "cell_type": "code",
     "collapsed": false,
     "input": [
      "print list_of_strings[2:4]"
     ],
     "language": "python",
     "metadata": {},
     "outputs": []
    },
    {
     "cell_type": "markdown",
     "metadata": {},
     "source": [
      "Try some slicing out, including with negative numbers:"
     ]
    },
    {
     "cell_type": "code",
     "collapsed": false,
     "input": [
      "#### Test it out here\n",
      "\n",
      "\n"
     ],
     "language": "python",
     "metadata": {},
     "outputs": []
    },
    {
     "cell_type": "heading",
     "level": 1,
     "metadata": {},
     "source": [
      "Adding items to a list"
     ]
    },
    {
     "cell_type": "markdown",
     "metadata": {},
     "source": [
      "There are 2 ways to add items to a list -- one at a time or many at once. "
     ]
    },
    {
     "cell_type": "code",
     "collapsed": false,
     "input": [
      "### One at a time\n",
      "print list_of_integers\n",
      "list_of_integers.append(5)\n",
      "print list_of_integers"
     ],
     "language": "python",
     "metadata": {},
     "outputs": []
    },
    {
     "cell_type": "code",
     "collapsed": false,
     "input": [
      "### Many at once:\n",
      "### using \"extend\"\n",
      "\n",
      "list_one = [1,2,3]\n",
      "list_two = [\"a\",\"b\", \"c\"]\n",
      "print list_one\n",
      "print list_two\n",
      "list_one.extend(list_two)\n",
      "print list_one"
     ],
     "language": "python",
     "metadata": {},
     "outputs": []
    },
    {
     "cell_type": "heading",
     "level": 4,
     "metadata": {},
     "source": [
      "What would have happened if you had used append instead?"
     ]
    },
    {
     "cell_type": "code",
     "collapsed": false,
     "input": [
      "#### Test it here!\n",
      "\n",
      "\n"
     ],
     "language": "python",
     "metadata": {},
     "outputs": []
    },
    {
     "cell_type": "heading",
     "level": 1,
     "metadata": {},
     "source": [
      "Iterating over a list"
     ]
    },
    {
     "cell_type": "markdown",
     "metadata": {},
     "source": [
      "The most standard way to iterate over a list is using a \"for\" loop:"
     ]
    },
    {
     "cell_type": "code",
     "collapsed": false,
     "input": [
      "for string in list_of_strings:\n",
      "    print string"
     ],
     "language": "python",
     "metadata": {},
     "outputs": []
    },
    {
     "cell_type": "code",
     "collapsed": false,
     "input": [
      "for integer in list_of_integers:\n",
      "    print integer, integer*integer"
     ],
     "language": "python",
     "metadata": {},
     "outputs": []
    },
    {
     "cell_type": "markdown",
     "metadata": {},
     "source": [
      "But what if you need the position of where you are?   Use (enumerate):"
     ]
    },
    {
     "cell_type": "code",
     "collapsed": false,
     "input": [
      "for position, integer in enumerate(list_of_integers):\n",
      "    print position, integer"
     ],
     "language": "python",
     "metadata": {},
     "outputs": []
    },
    {
     "cell_type": "markdown",
     "metadata": {},
     "source": [
      "Let's make a new list that contains things that meet some criteria"
     ]
    },
    {
     "cell_type": "code",
     "collapsed": false,
     "input": [
      "newlist = []\n",
      "for integer in list_of_integers:\n",
      "    if integer > 2:\n",
      "        newlist.append(integer)\n",
      "print newlist"
     ],
     "language": "python",
     "metadata": {},
     "outputs": []
    },
    {
     "cell_type": "heading",
     "level": 3,
     "metadata": {},
     "source": [
      "List comprehensions"
     ]
    },
    {
     "cell_type": "markdown",
     "metadata": {},
     "source": [
      "A <em>list comprehension</em> is a concise way to do what we just did:  iterate over a list (or other iterable) and create a new list based on some simple logic:\n",
      "    "
     ]
    },
    {
     "cell_type": "code",
     "collapsed": false,
     "input": [
      "newlist2 = [integer for integer in list_of_integers if integer > 2]\n",
      "print newlist2\n",
      "newlist3 = [integer*5 for integer in list_of_integers]\n",
      "print newlist3"
     ],
     "language": "python",
     "metadata": {},
     "outputs": []
    },
    {
     "cell_type": "heading",
     "level": 6,
     "metadata": {},
     "source": [
      "List comprehensions are powerful, concise and very Pythonic.  However, use them with care:  they can get confusing fast!"
     ]
    },
    {
     "cell_type": "heading",
     "level": 1,
     "metadata": {},
     "source": [
      "Sorting"
     ]
    },
    {
     "cell_type": "markdown",
     "metadata": {},
     "source": [
      "Sorting is a very natural thing to do and Python supports it out-of-the-box with an efficient sorting implementation.<br>\n",
      "The main thing is that you need to specify the \"key\" to sort by and you need to know whether to sort <em>in-place</em> or not"
     ]
    },
    {
     "cell_type": "code",
     "collapsed": false,
     "input": [
      "list_to_sort = [3,1,2,5]\n",
      "print list_to_sort\n",
      "## if you call the .sort method on a list, it sorts in place - meaning the current list becomes sorted\n",
      "## without specifying a key, it will use the default sorting\n",
      "list_to_sort.sort()   \n",
      "print list_to_sort\n",
      "list_to_sort.sort(reverse=True)  ## we want it in descending order\n",
      "print list_to_sort"
     ],
     "language": "python",
     "metadata": {},
     "outputs": []
    },
    {
     "cell_type": "code",
     "collapsed": false,
     "input": [
      "list_to_sort = [3,1,2,5]\n",
      "print list_to_sort\n",
      "## if you call the sorted method on a list, it returns a new list that's sorted\n",
      "## again, without specifying a key, it will use the default sorting\n",
      "sorted(list_to_sort)\n",
      "print list_to_sort\n",
      "print \"list_to_sort is not sorted!\"\n",
      "sorted_list = sorted(list_to_sort)   ### we need to get the new list, instead!\n",
      "print sorted_list"
     ],
     "language": "python",
     "metadata": {},
     "outputs": []
    },
    {
     "cell_type": "markdown",
     "metadata": {},
     "source": [
      "Sorting with a key:  <br>\n",
      "The sort methods (.sort or sorted) take a keyword argument of \"key\" that takes a function and returns the value to sort on.  This can be anything you want.<br>\n",
      "Using a <em>lambda function</em> is a convenient way to specify an alternative way of sorting<br>\n",
      "<em>lambda functions</em> are \"throwaway\" functions that are typically used in a very local way"
     ]
    },
    {
     "cell_type": "code",
     "collapsed": false,
     "input": [
      "list_of_strings2 = [\"the longest of all!\", \"one\", \"two\", \"this is longer\", \"short\"]\n",
      "print list_of_strings2\n",
      "list_of_strings2.sort(key=lambda x: len(x))    ## we're saying the comparison is the length of the string\n",
      "print list_of_strings2"
     ],
     "language": "python",
     "metadata": {},
     "outputs": []
    },
    {
     "cell_type": "code",
     "collapsed": false,
     "input": [
      "list_of_strings2 = [\"the longest of all!\", \"one\", \"two\", \"this is longer\", \"short\"]\n",
      "print list_of_strings2\n",
      "list_of_strings2.sort(key=lambda x: x[1])    ## sort by the 2nd character  what happens if they're the same?\n",
      "print list_of_strings2"
     ],
     "language": "python",
     "metadata": {},
     "outputs": []
    },
    {
     "cell_type": "code",
     "collapsed": false,
     "input": [
      "### Try out some sorting of your own here!\n",
      "\n",
      "\n"
     ],
     "language": "python",
     "metadata": {},
     "outputs": []
    },
    {
     "cell_type": "heading",
     "level": 1,
     "metadata": {},
     "source": [
      "Nested Lists as Tables"
     ]
    },
    {
     "cell_type": "markdown",
     "metadata": {},
     "source": [
      "Nested lists can be one way to express a table.   "
     ]
    },
    {
     "cell_type": "code",
     "collapsed": false,
     "input": [
      "table = [[\"row1:column1\", \"row1:column2\", \"row1:column3\"],\n",
      "         [\"row2:column1\", \"row2:column2\", \"row2:column3\"],\n",
      "         [\"row3:column1\", \"row3:column2\", \"row3:column3\"],\n",
      "         [\"row4:column1\", \"row4:column2\", \"row4:column3\"],\n",
      "         [\"row5:column1\", \"row5:column2\", \"row5:column3\"]]\n"
     ],
     "language": "python",
     "metadata": {},
     "outputs": []
    },
    {
     "cell_type": "code",
     "collapsed": false,
     "input": [
      "for row in table:\n",
      "    print row"
     ],
     "language": "python",
     "metadata": {},
     "outputs": []
    },
    {
     "cell_type": "markdown",
     "metadata": {},
     "source": [
      "You can even do queries of a sort:"
     ]
    },
    {
     "cell_type": "code",
     "collapsed": false,
     "input": [
      "selected_rows= [row for row in table if \"1\" in row[1] or \"4\" in row[1]]   ### Not quite SQL!\n",
      "for row in selected_rows:\n",
      "    print row"
     ],
     "language": "python",
     "metadata": {},
     "outputs": []
    },
    {
     "cell_type": "heading",
     "level": 1,
     "metadata": {},
     "source": [
      "That's it for now!"
     ]
    },
    {
     "cell_type": "code",
     "collapsed": false,
     "input": [],
     "language": "python",
     "metadata": {},
     "outputs": []
    }
   ],
   "metadata": {}
  }
 ]
}