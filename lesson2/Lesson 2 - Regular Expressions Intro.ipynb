{
 "metadata": {
  "name": "",
  "signature": "sha256:2cbaae8363e929beeb3f73827cfeb8f8414682805315849dbcff474d115b240f"
 },
 "nbformat": 3,
 "nbformat_minor": 0,
 "worksheets": [
  {
   "cells": [
    {
     "cell_type": "heading",
     "level": 1,
     "metadata": {},
     "source": [
      "Reading from a file"
     ]
    },
    {
     "cell_type": "markdown",
     "metadata": {},
     "source": [
      "Python includes a few convenient methods for reading from a file.<br>\n",
      "There are also built-in libraries for dealing with things like csv files<br>"
     ]
    },
    {
     "cell_type": "heading",
     "level": 6,
     "metadata": {},
     "source": [
      "For the following examples, you should update the filename variable with the location of your data on your machine!"
     ]
    },
    {
     "cell_type": "code",
     "collapsed": false,
     "input": [
      "filename = \"/Users/ocb046/coding/voice/Voice_data3.txt\""
     ],
     "language": "python",
     "metadata": {},
     "outputs": []
    },
    {
     "cell_type": "code",
     "collapsed": false,
     "input": [
      "with open(filename, 'r') as file_object:\n",
      "    file_contents_lines = []\n",
      "    for line in file_object:\n",
      "        file_contents_lines.append(line.strip())   ### the .strip() call removes trailing spaces\n",
      "\n",
      "print file_contents_lines[0]\n",
      "print \"\\n\\n\"  # for spacing:  \\n is a line return\n",
      "print len(file_contents_lines)"
     ],
     "language": "python",
     "metadata": {},
     "outputs": []
    },
    {
     "cell_type": "code",
     "collapsed": false,
     "input": [
      "table = []\n",
      "for record in file_contents_lines:\n",
      "    ### if we don't strip off the trailing spaces, \n",
      "    row = record.strip().split('|')  ### the delimiter here is a | character.  Note: if | is allowed inside a record, this file format breaks!\n",
      "    table.append(row)"
     ],
     "language": "python",
     "metadata": {},
     "outputs": []
    },
    {
     "cell_type": "code",
     "collapsed": false,
     "input": [
      "first_call = table[0][2]\n",
      "print first_call"
     ],
     "language": "python",
     "metadata": {},
     "outputs": []
    },
    {
     "cell_type": "heading",
     "level": 1,
     "metadata": {},
     "source": [
      "Introduction to Regular Expressions"
     ]
    },
    {
     "cell_type": "markdown",
     "metadata": {},
     "source": [
      "Regular Expressions are an example of what is called a <em>Domain Specific Language</em> <br>\n",
      "They are so useful that they are implemented everywhere:  nearly every programming language (Python, Java, Perl, etc.) and even the Unix/Linux command line (from a linux command prompt, type \"man grep\" sometime!  <br>\n",
      "There are a couple of \"flavors\" of regular expression syntax, but the most common is \n",
      "Python includes them in the standard library in the \"re\" module"
     ]
    },
    {
     "cell_type": "code",
     "collapsed": false,
     "input": [
      "import re"
     ],
     "language": "python",
     "metadata": {},
     "outputs": []
    },
    {
     "cell_type": "code",
     "collapsed": false,
     "input": [
      "help(re)"
     ],
     "language": "python",
     "metadata": {},
     "outputs": []
    },
    {
     "cell_type": "markdown",
     "metadata": {},
     "source": [
      "The fundamental notion of regular expressions is <em>pattern matching</em> -- a regular expression defines a pattern to be matched<br>\n",
      "Let's start off with something very simple:"
     ]
    },
    {
     "cell_type": "code",
     "collapsed": false,
     "input": [
      "string_to_match = \"the quick brown fox jumps over the lazy dog\"\n",
      "print re.findall(\"fox\", string_to_match)\n",
      "print re.findall(\"the\", string_to_match)\n",
      "print re.findall(\"do\", string_to_match)"
     ],
     "language": "python",
     "metadata": {},
     "outputs": []
    },
    {
     "cell_type": "markdown",
     "metadata": {},
     "source": [
      "\"findall\" is one of the methods for searching for all occurrences of particular pattern<br>\n",
      "One thing you'll notice is that our simple pattern matches on parts of words, in addition to full words<br>\n",
      "Our old search method had that problem, too:"
     ]
    },
    {
     "cell_type": "code",
     "collapsed": false,
     "input": [
      "from util import string_search\n",
      "string_search([[string_to_match]], \"do\", search_index=0)"
     ],
     "language": "python",
     "metadata": {},
     "outputs": []
    },
    {
     "cell_type": "markdown",
     "metadata": {},
     "source": [
      "Regular expressions allow us to built up more complicated patterns.  We could, for example, look for patterns that include whitespace on either side of the word:"
     ]
    },
    {
     "cell_type": "code",
     "collapsed": false,
     "input": [
      "print re.findall(\"\\sfox\\s\", string_to_match)\n",
      "print re.findall(\"\\sthe\\s\", string_to_match)\n",
      "print re.findall(\"\\sdo\\s\", string_to_match)"
     ],
     "language": "python",
     "metadata": {},
     "outputs": []
    },
    {
     "cell_type": "heading",
     "level": 6,
     "metadata": {},
     "source": [
      "What's different now?"
     ]
    },
    {
     "cell_type": "markdown",
     "metadata": {},
     "source": [
      "OK, so there are 2 problems:<br>\n",
      "   1.  There are now spaces in our match.  Maybe we just want to match the word\n",
      "   2.  We don't match at the beginning or end of the string"
     ]
    },
    {
     "cell_type": "markdown",
     "metadata": {},
     "source": [
      "We can, solve the second by using parentheses.   These signify a group to match"
     ]
    },
    {
     "cell_type": "code",
     "collapsed": false,
     "input": [
      "print re.findall(\"\\s(fox)\\s\", string_to_match)\n",
      "print re.findall(\"\\s(the)\\s\", string_to_match)\n",
      "print re.findall(\"\\s(do)\\s\", string_to_match)"
     ],
     "language": "python",
     "metadata": {},
     "outputs": []
    },
    {
     "cell_type": "markdown",
     "metadata": {},
     "source": [
      "We can also use the \\b character to match a word boundary, rather than whitespace.  This fixes the first issue:"
     ]
    },
    {
     "cell_type": "code",
     "collapsed": false,
     "input": [
      "print re.findall(\"\\b(fox)\\b\", string_to_match)\n",
      "print re.findall(\"\\b(the)\\b\", string_to_match)\n",
      "print re.findall(\"\\b(do)\\b\", string_to_match)"
     ],
     "language": "python",
     "metadata": {},
     "outputs": []
    },
    {
     "cell_type": "heading",
     "level": 6,
     "metadata": {},
     "source": [
      "Wait, what?"
     ]
    },
    {
     "cell_type": "markdown",
     "metadata": {},
     "source": [
      "One key thing to realize is that for regular expressions, we should really be using what are called <em>raw</em> strings.  You use a preceding 'r' to make them:"
     ]
    },
    {
     "cell_type": "code",
     "collapsed": false,
     "input": [
      "print re.findall(r\"\\b(fox)\\b\", string_to_match)\n",
      "print re.findall(r\"\\b(the)\\b\", string_to_match)\n",
      "print re.findall(r\"\\b(do)\\b\", string_to_match)"
     ],
     "language": "python",
     "metadata": {},
     "outputs": []
    },
    {
     "cell_type": "markdown",
     "metadata": {},
     "source": [
      "Using raw strings is important so that python doesn't interpret your regex special characters as special string characters<br>\n",
      "In other languages, you might have to escape them, like this, which Python also supports:"
     ]
    },
    {
     "cell_type": "code",
     "collapsed": false,
     "input": [
      "print re.findall(\"\\\\b(fox)\\\\b\", string_to_match)\n",
      "print re.findall(\"\\\\b(the)\\\\b\", string_to_match)\n",
      "print re.findall(\"\\\\b(do)\\\\b\", string_to_match)"
     ],
     "language": "python",
     "metadata": {},
     "outputs": []
    },
    {
     "cell_type": "heading",
     "level": 3,
     "metadata": {},
     "source": [
      "Wildcards"
     ]
    },
    {
     "cell_type": "markdown",
     "metadata": {},
     "source": [
      "\\s and \\b are special kinds of wildcards.  There are also other wildcards: <br>\n",
      "<code>\\w</code> matches a word character<br>\n",
      "<code>\\W</code> matches a nonword character<br>\n",
      "<code>.</code> matches any character (except line returns)<br>\n"
     ]
    },
    {
     "cell_type": "heading",
     "level": 3,
     "metadata": {},
     "source": [
      "Numbers"
     ]
    },
    {
     "cell_type": "markdown",
     "metadata": {},
     "source": [
      "You can specify how many of a particular character/wildcard/patterns to match in a number of different ways:<br>\n",
      "<code>*</code> matches 0 or more <br>\n",
      "<code>+</code> matches 1 or more <br>\n",
      "<code>{n,m}</code> matches n to m <br>\n",
      "\n"
     ]
    },
    {
     "cell_type": "markdown",
     "metadata": {},
     "source": [
      "Let's try it out with first_call"
     ]
    },
    {
     "cell_type": "code",
     "collapsed": false,
     "input": [
      "pattern1 = r\"\\b(speak\\w*)\\b\"  ## matches speak followed by any number of additional word characters\n",
      "print re.findall(pattern1, first_call.lower())"
     ],
     "language": "python",
     "metadata": {},
     "outputs": []
    },
    {
     "cell_type": "code",
     "collapsed": false,
     "input": [
      "pattern2 = r\"\\w*\\W+capital\\W+\\w*\"  ## matches any word followed by capital followed by any other word\n",
      "print re.findall(pattern2, first_call.lower())"
     ],
     "language": "python",
     "metadata": {},
     "outputs": []
    },
    {
     "cell_type": "code",
     "collapsed": false,
     "input": [
      "pattern3 = r\"(?:\\w*\\W+){3}capital(?:\\W+\\w*){3}\"  ## matches 3 words followed by capital followed by 3 words\n",
      "for phrase in re.findall(pattern3, first_call.lower()):\n",
      "    print phrase"
     ],
     "language": "python",
     "metadata": {},
     "outputs": []
    },
    {
     "cell_type": "markdown",
     "metadata": {},
     "source": [
      "Lets go back to the \"sober\" occurrences.  What are they about?  We can use this same pattern to look for words around the word sober to geet an idea of what they're talking about.  Are we operating a party line?"
     ]
    },
    {
     "cell_type": "code",
     "collapsed": false,
     "input": [
      "### Because we're going to do the same search many many times, let's compile it to make it faster.\n",
      "pattern4 = re.compile(r\"(?:\\w*\\W+){3}sober(?:\\W+\\w*){3}\" , re.IGNORECASE) ## matches 3 words followed by sober followed by 3 words\n",
      "for row in table:\n",
      "    for phrase in pattern4.findall(row[2]):\n",
      "        sober_position = phrase.lower().index('sober')\n",
      "        \n",
      "        print ' '*(30-sober_position) + phrase"
     ],
     "language": "python",
     "metadata": {},
     "outputs": []
    },
    {
     "cell_type": "heading",
     "level": 3,
     "metadata": {},
     "source": [
      "Whoa:   We've got some data quality problems!   "
     ]
    },
    {
     "cell_type": "heading",
     "level": 4,
     "metadata": {},
     "source": [
      "Let's start cleaning things up! <br>\n",
      "Regular expressions can also be used for search and replace.  In this case, we want to replace \"quick sober\" with \"quicksilver\"<br>\n",
      "Let's start by make our search pattern only find \"quick\" or \"click\" or \"pick\" followed by \"sober\" "
     ]
    },
    {
     "cell_type": "code",
     "collapsed": false,
     "input": [
      "pattern5 = re.compile(r\"(?:(?:quick)|(?:click)|(?:pick))\\W+sober\\b\" , re.IGNORECASE) ## matches 3 words followed by sober followed by 3 words\n",
      "for row in table:\n",
      "    for phrase in pattern5.findall(row[2]):\n",
      "        print phrase"
     ],
     "language": "python",
     "metadata": {},
     "outputs": []
    },
    {
     "cell_type": "heading",
     "level": 4,
     "metadata": {},
     "source": [
      "Great!   Looks good.  Now let's use it to find and reaplce"
     ]
    },
    {
     "cell_type": "code",
     "collapsed": false,
     "input": [
      "for row in table:\n",
      "    row[2] = pattern5.sub('Quicksilver', row[2])  \n",
      "    for phrase in pattern5.findall(row[2]):\n",
      "        #sober_position = phrase.lower().index('sober')\n",
      "        print phrase"
     ],
     "language": "python",
     "metadata": {},
     "outputs": []
    },
    {
     "cell_type": "heading",
     "level": 4,
     "metadata": {},
     "source": [
      "Let's make sure it works by re-using our old search for sober:"
     ]
    },
    {
     "cell_type": "code",
     "collapsed": false,
     "input": [
      "### Because we're going to do the same search many many times, let's compile it to make it faster.\n",
      "pattern4 = re.compile(r\"(?:\\w*\\W+){3}sober(?:\\W+\\w*){3}\" , re.IGNORECASE) ## matches 3 words followed by sober followed by 3 words\n",
      "for row in table:\n",
      "    for phrase in pattern4.findall(row[2]):\n",
      "        sober_position = phrase.lower().index('sober')\n",
      "        print ' '*(30-sober_position) + phrase"
     ],
     "language": "python",
     "metadata": {},
     "outputs": []
    },
    {
     "cell_type": "heading",
     "level": 4,
     "metadata": {},
     "source": [
      "OK.   It worked, but there's definitely more work to be done.<br>\n",
      "We might want to replace any mention of \"sober\" that occurs within 2-3 words of card with \"silver\" <br>\n",
      "But let's save out what we have so we can come back to it later!"
     ]
    },
    {
     "cell_type": "markdown",
     "metadata": {},
     "source": [
      "Before, the data was saved pipe delimited.  There are challenges with that format, \n",
      "however, related to text fields and whether there are line returns inside.  We're going to \n",
      "use a proper csv format, which quotes all the strings"
     ]
    },
    {
     "cell_type": "code",
     "collapsed": false,
     "input": [
      "import csv   # Python has a built in library for working with csv files - the delimiter can be any string, not just a comma\n",
      "\n",
      "with open('lesson1_voice_data_cleaned.csv', 'w') as output_file:\n",
      "    csv_writer = csv.writer(output_file, quoting=csv.QUOTE_NONNUMERIC)\n",
      "    csv_writer.writerows(table)"
     ],
     "language": "python",
     "metadata": {},
     "outputs": []
    },
    {
     "cell_type": "markdown",
     "metadata": {},
     "source": [
      "There's plenty more data cleanup to do.  Here are few fun things to look for in the text:\n",
      "<br>\"green tea\"\n",
      "<br>\"bees not\"\n"
     ]
    },
    {
     "cell_type": "heading",
     "level": 2,
     "metadata": {},
     "source": [
      "Homework to follow!"
     ]
    },
    {
     "cell_type": "code",
     "collapsed": false,
     "input": [],
     "language": "python",
     "metadata": {},
     "outputs": []
    }
   ],
   "metadata": {}
  }
 ]
}